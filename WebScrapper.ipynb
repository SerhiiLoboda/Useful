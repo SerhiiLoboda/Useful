import requests
from bs4 import BeautifulSoup
import csv 
import pandas as pd 
import datetime


#def for getting data from web tables with different dates on different pages for dates
def tabledatageter (baselink ,dates=datetime.date.today()):
  table=pd.DataFrame({'date':[],"column1": [],  "column2": [],  "column3": [] })

 for date in dates:
    column1=[]
    column2=[]
    column3=[]

    dataurl = baselink+str(date)
    r= requests.get(dataurl)
    data=r.text
    soup=BeautifulSoup(data)
    #Here you should change attrs parameter
    for listing in soup.find_all('tr'):
      for column in listing.find_all('td', attrs={'aria-label':"column1" }):
        column1.append(column.text)
        for a in column.find_all('a', href=True):
          column2.append(a['href'])    #for lincs
      for column in listing.find_all('td', attrs={'aria-label':"column3" }):
        column3.append(column.text)
    internaltable=pd.DataFrame({"column1": column1, "column2": column1, "column3": column1})
    internaltable['Date']=date
    table=table.append(internaltable)
  return(table)

